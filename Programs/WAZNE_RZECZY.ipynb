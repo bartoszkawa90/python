{
 "cells": [
  {
   "cell_type": "code",
   "execution_count": 1,
   "metadata": {},
   "outputs": [
    {
     "ename": "ModuleNotFoundError",
     "evalue": "No module named 'matplotlib'",
     "output_type": "error",
     "traceback": [
      "\u001b[0;31m---------------------------------------------------------------------------\u001b[0m",
      "\u001b[0;31mModuleNotFoundError\u001b[0m                       Traceback (most recent call last)",
      "Cell \u001b[0;32mIn [1], line 6\u001b[0m\n\u001b[1;32m      4\u001b[0m \u001b[38;5;28;01mimport\u001b[39;00m \u001b[38;5;21;01mnumpy\u001b[39;00m \u001b[38;5;28;01mas\u001b[39;00m \u001b[38;5;21;01mnp\u001b[39;00m\n\u001b[1;32m      5\u001b[0m \u001b[38;5;66;03m# Matplotlib for plotting figures\u001b[39;00m\n\u001b[0;32m----> 6\u001b[0m \u001b[38;5;28;01mimport\u001b[39;00m \u001b[38;5;21;01mmatplotlib\u001b[39;00m\u001b[38;5;21;01m.\u001b[39;00m\u001b[38;5;21;01mpyplot\u001b[39;00m \u001b[38;5;28;01mas\u001b[39;00m \u001b[38;5;21;01mplt\u001b[39;00m\n\u001b[1;32m      7\u001b[0m \u001b[38;5;66;03m# Signal processing package\u001b[39;00m\n\u001b[1;32m      8\u001b[0m \u001b[38;5;28;01mimport\u001b[39;00m \u001b[38;5;21;01mscipy\u001b[39;00m\u001b[38;5;21;01m.\u001b[39;00m\u001b[38;5;21;01msignal\u001b[39;00m \u001b[38;5;28;01mas\u001b[39;00m \u001b[38;5;21;01msig\u001b[39;00m\n",
      "\u001b[0;31mModuleNotFoundError\u001b[0m: No module named 'matplotlib'"
     ]
    }
   ],
   "source": [
    "#IMPORTY\n",
    "#PRZYDATNE IMPORTY\n",
    "# NumPy package\n",
    "import numpy as np\n",
    "# Matplotlib for plotting figures\n",
    "import matplotlib.pyplot as plt\n",
    "# Signal processing package\n",
    "import scipy.signal as sig\n",
    "# Test library\n",
    "import unittest\n",
    "import sys\n",
    "# Random\n",
    "import random"
   ]
  },
  {
   "cell_type": "code",
   "execution_count": 5,
   "metadata": {},
   "outputs": [],
   "source": [
    "# Ważne jest że is  i  == to nie to samo i raczej używamy == bo is bierze pod uwagę id zmiennej a nie samą wartość "
   ]
  },
  {
   "cell_type": "code",
   "execution_count": 6,
   "metadata": {},
   "outputs": [
    {
     "name": "stdout",
     "output_type": "stream",
     "text": [
      "Twoje zmienne to działąnia to 1 , 3.5 i True\n"
     ]
    }
   ],
   "source": [
    "#f string   and str.format()\n",
    "\n",
    "int = 1\n",
    "float = 3.5\n",
    "boolean = True\n",
    "print(f'Twoje zmienne to działąnia to {int} , {float} i {boolean}')\n",
    "#format\n",
    "txt1 = \"My name is {fname}, I'm {age}\".format(fname = \"John\", age = 36)\n",
    "txt2 = \"My name is {0}, I'm {1}\".format(\"John\",36)"
   ]
  },
  {
   "cell_type": "code",
   "execution_count": 12,
   "metadata": {},
   "outputs": [
    {
     "name": "stdout",
     "output_type": "stream",
     "text": [
      "Size and elements of wyr_listowne 120,[0, 1, 4, 9, 16] i wyr2 120,[0, 1, 4, 9, 16]\n",
      "x\n",
      "x\n",
      "x\n",
      "x\n",
      "x\n"
     ]
    }
   ],
   "source": [
    "# formuła listowa  //  wyrażenie listowne lepszy sposób inicjalizacji listy niż pętle\n",
    "\n",
    "#1 potęga 2\n",
    "wyr_listowene = [i**2 for i in range(5)]\n",
    "\n",
    "#2 parzyste liczby \n",
    "wyr2 = [ i for i in range(10) if i % 2 == 0]\n",
    "print(f'Size and elements of wyr_listowne {sys.getsizeof(wyr_listowene)},{wyr_listowene} i wyr2 {sys.getsizeof(wyr_listowene)},{wyr_listowene}')\n",
    "\n",
    "#3 Podkreślnik w pętli for  -   można go użyć zamiast zmiennej np.i która bedzie iterowana i wykonać taką pętlę\n",
    "#  jak chcemy wykonać pętlę for ale nie interesuje nas to co bedzie iterowane\n",
    "for _ in range(5):\n",
    "    print('x')"
   ]
  },
  {
   "cell_type": "code",
   "execution_count": 8,
   "metadata": {},
   "outputs": [
    {
     "name": "stdout",
     "output_type": "stream",
     "text": [
      "0\n",
      "3\n",
      "6\n",
      "9\n"
     ]
    }
   ],
   "source": [
    "# wyrażenia generujące  które zajmują dużo mniej miejsca w pamięci\n",
    "#GENERATOR TO W SUMIE NA BIERZĄCO GENERUJE LICZBY I DZIĘKI TEMU ZAJMUJE MAŁO MIEJSCA W PAMIĘCI I JEST LEPSZY NIŻ  WYRAŻENIE LISTOWNE\n",
    "# ALE ZA TO NA GENERATORZE NIE MOŻNA WYKONYWAĆ OPERACJI NA LISTACH WIEC SĄ TEŻ MINUSY \n",
    "#           OSTATECZNIE GENERATOR TO PODOBNE COŚ DO TEJ LISTY ALE NIE TZRYMA WARTOŚCI TYLKO MOŻE JE NA BIERZĄCO GENEROWAĆ CO ZNACZĄCO POPRAWIA \n",
    "#           PROGRAM I NIE ZAJMUJE NIEPOTRZEBNIE MIEJSCA ALE MA OGRANICZENIA BO NIE JEST LISTĄ { TROCHE JAK TUPLE GENEROWANIE NA BIERZĄCO } \n",
    "#1\n",
    "\n",
    "gen_pod3 = (i for i in range(10) if i%3==0)\n",
    "for elem in gen_pod3:\n",
    "    print(elem)"
   ]
  },
  {
   "cell_type": "code",
   "execution_count": 9,
   "metadata": {},
   "outputs": [],
   "source": [
    "#Przykład w miare istotnych rzeczy\n",
    "\n",
    "def przywitaj(x:int) ->None:            # taka funkcja sugeruje podanie jej int i nie zwraca nic ( None )\n",
    "    k=0\n",
    "    while k<9:\n",
    "        print('text',x)\n",
    "        k+=1\n",
    "\n",
    "                                                #  OBIEKTOVE"
   ]
  },
  {
   "cell_type": "code",
   "execution_count": 15,
   "metadata": {},
   "outputs": [
    {
     "name": "stdout",
     "output_type": "stream",
     "text": [
      "jurek , 24 , 4,ID,120\n",
      "jurek , lat : 24\n"
     ]
    }
   ],
   "source": [
    "# KLASY\n",
    "\n",
    "\n",
    "#PRZYKADOWE KLASY  ( TUTAJ SĄ ZE SOBĄ POWIĄZANE )\n",
    "\n",
    "# składowe klast wykorzystujemu po self   (  self.zmienna )  ale do funkcji jak widać podajemy normalnie\n",
    "# Są to metody które mają z góry określone kiedy zostaną wywoałane\n",
    "# DOC - string  -  czyli taka !!!    dokumentacja    !!! do klasy która będzie się wyświetlać w małym okienku przy tekscie \n",
    "# kiedy najedziemy na nazwę klasy przy tworzeniu obiektu.Działa to też w przypadku metod klasy a nie tyklo dla samej klasy , ponadto z rozszerzeniem autoDOCstream \n",
    "# można odrazu tworzyć też dokumentację dla poszczególnych zmiennych\n",
    "# Metody d-under to te które mają dwa podkreślniki np.__init__\n",
    "# __str__  -  to należe interpretować jako \" co się stanie/ma się stać   jeśli obiekt zostanie potraktorany jako string \"\n",
    "# __getitem__ - to metoda która Działa kiedy chcemy wyciągnąć jakby element obiektu po indeksie  i możemy to ustawić \n",
    "#  żeby zwracało wtedy to o co nam chodzi \n",
    "# __setitem__ - to metoda która troche jakby łączyła się z getitem i po wybraniu indexu zmienia wybrany przez naz atrybut\n",
    "#  czyli przypisuje coś do wybranej pozyscji\n",
    "\n",
    "# stare rakiety\n",
    "\n",
    "class Rocket:\n",
    "    \"\"\"Klasa Rakieta\n",
    "    \"\"\"\n",
    "    def __init__(self,hight:float=0.0,power:float=1.0) -> None:\n",
    "        \"\"\"Konstruktor\n",
    "\n",
    "        Args:\n",
    "            hight (float, optional): _description_. Defaults to 0.0.\n",
    "            power (float, optional): _description_. Defaults to 1.0.\n",
    "        \"\"\"\n",
    "        self.hight = hight\n",
    "        self.power = power\n",
    "    \n",
    "    def __str__(self) -> str:\n",
    "        return \"Rakieta o mocy \" + str(self.power) + \" znajduje się na wysokości \" + str(self.hight)\n",
    "\n",
    "\n",
    "    def move_up(self) -> None:\n",
    "        \"\"\"Metoda do poruszania się do góry w zalerzności od mocy rakiety\n",
    "        \"\"\"\n",
    "        self.hight += 1 * self.power   #liniowy wzrost\n",
    "        #self.hight = random.randint(1,10) * self.power  # randomowy wzrost wysokości na podstawie mocy\n",
    "\n",
    "\n",
    "\n",
    "\n",
    "class BlockOfRockets:\n",
    "    def __init__(self,AmmoutOfRockets:int=3) -> None:\n",
    "        \"\"\"Class which creates a block of rockets\n",
    "\n",
    "        Args:\n",
    "            AmmoutOfRockets (int, optional): Ammount of rocketst that we want to have in our block . Defaults to 3.\n",
    "        \"\"\"\n",
    "        self.AmmountOfRockets = AmmoutOfRockets\n",
    "        self.rockets = [Rocket(i,i) for i in range(self.AmmountOfRockets)]\n",
    "\n",
    "    def MoveBlock(self):\n",
    "        \"\"\" Moves rocket up accordingly to power of the specyfic rocket\n",
    "        \"\"\"\n",
    "        for rocket in self.rockets:\n",
    "            rocket.hight += 1 * rocket.power\n",
    "\n",
    "    def __getitem__(self,key):\n",
    "        return self.rockets[key]\n",
    "\n",
    "\n",
    "    def __str__(self) -> str:\n",
    "        \"\"\" Print info about Block of rockets\n",
    "        \"\"\"\n",
    "        Print = ''\n",
    "        for Rocket in self.rockets:\n",
    "            Print += Rocket.__str__() + '\\n'\n",
    "        return Print\n",
    "\n",
    "\n",
    "BlockR = BlockOfRockets(4)\n",
    "\n",
    "BlockR.MoveBlock\n",
    "print(BlockR)\n",
    "\n"
   ]
  }
 ],
 "metadata": {
  "kernelspec": {
   "display_name": "Python 3.8.10 64-bit",
   "language": "python",
   "name": "python3"
  },
  "language_info": {
   "codemirror_mode": {
    "name": "ipython",
    "version": 3
   },
   "file_extension": ".py",
   "mimetype": "text/x-python",
   "name": "python",
   "nbconvert_exporter": "python",
   "pygments_lexer": "ipython3",
   "version": "3.8.10"
  },
  "orig_nbformat": 4,
  "vscode": {
   "interpreter": {
    "hash": "916dbcbb3f70747c44a77c7bcd40155683ae19c65e1c03b4aa3499c5328201f1"
   }
  }
 },
 "nbformat": 4,
 "nbformat_minor": 2
}
